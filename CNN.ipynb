{
 "cells": [
  {
   "cell_type": "code",
   "execution_count": 1,
   "metadata": {},
   "outputs": [
    {
     "name": "stderr",
     "output_type": "stream",
     "text": [
      "Using TensorFlow backend.\n"
     ]
    },
    {
     "name": "stdout",
     "output_type": "stream",
     "text": [
      "x_train shape: (50000, 32, 32, 3)\n",
      "50000 train samples\n",
      "10000 test samples\n"
     ]
    }
   ],
   "source": [
    "import keras\n",
    "from keras.datasets import cifar10\n",
    "from keras.models import Sequential\n",
    "from keras.layers import Dense, Dropout, Activation, Flatten\n",
    "from keras.layers import Conv2D, MaxPooling2D\n",
    "import os\n",
    "\n",
    "batch_size = 32\n",
    "num_classes = 10\n",
    "epochs = 100\n",
    "save_dir = os.path.join(os.getcwd(), 'saved_models')\n",
    "model_name = 'keras_cifar10_trained_model.h5'\n",
    "\n",
    "# The data, split between train and test sets:\n",
    "(x_train, y_train), (x_test, y_test) = cifar10.load_data()\n",
    "print('x_train shape:', x_train.shape)\n",
    "print(x_train.shape[0], 'train samples')\n",
    "print(x_test.shape[0], 'test samples')"
   ]
  },
  {
   "cell_type": "code",
   "execution_count": 16,
   "metadata": {},
   "outputs": [],
   "source": [
    "# Convert class vectors to binary class matrices.\n",
    "y_train = keras.utils.to_categorical(y_train, num_classes)\n",
    "y_test = keras.utils.to_categorical(y_test, num_classes)"
   ]
  },
  {
   "cell_type": "code",
   "execution_count": 20,
   "metadata": {},
   "outputs": [],
   "source": [
    "# Model Building\n",
    "# Sequential Model\n",
    "model = Sequential()\n",
    "# Convolution activation block\n",
    "model.add(Conv2D(filters = 32, kernel_size = (3, 3), padding='same', input_shape=x_train.shape[1:]))\n",
    "model.add(Activation('relu'))\n",
    "\n",
    "# Convolution activation block\n",
    "model.add(Conv2D(filters = 32, kernel_size = (3, 3)))\n",
    "model.add(Activation('relu'))\n",
    "\n",
    "# Maximum Pooling - fully connected with dropout\n",
    "model.add(MaxPooling2D(pool_size=(2, 2)))\n",
    "model.add(Dropout(0.25))\n",
    "\n",
    "# Convolution activation block\n",
    "model.add(Conv2D(filters = 64, kernel_size = (3, 3), padding='same'))\n",
    "model.add(Activation('relu'))\n",
    "\n",
    "# Convolution activation block\n",
    "model.add(Conv2D(filters = 64, kernel_size = (3, 3)))\n",
    "model.add(Activation('relu'))\n",
    "\n",
    "# Maximum Pooling - fully connected with dropout\n",
    "model.add(MaxPooling2D(pool_size=(2, 2)))\n",
    "model.add(Dropout(0.25))\n",
    "\n",
    "# Fllatten :: to be input of fully connected neural network\n",
    "model.add(Flatten())\n",
    "\n",
    "# Fully connected (512 neurons) - Activation (relu) - Dropout(0.5)\n",
    "model.add(Dense(512))\n",
    "model.add(Activation('relu'))\n",
    "model.add(Dropout(0.5))\n",
    "\n",
    "# Output layer :: full connected with 10 classes output\n",
    "model.add(Dense(num_classes))\n",
    "model.add(Activation('softmax'))"
   ]
  },
  {
   "cell_type": "code",
   "execution_count": 21,
   "metadata": {},
   "outputs": [],
   "source": [
    "# Model compiling\n",
    "# initiate RMSprop optimizer\n",
    "opt = keras.optimizers.RMSprop(lr=0.0001, decay=1e-6)\n",
    "\n",
    "# Let's train the model using RMSprop\n",
    "model.compile(loss='categorical_crossentropy',\n",
    "              optimizer=opt,\n",
    "              metrics=['accuracy'])"
   ]
  },
  {
   "cell_type": "code",
   "execution_count": 22,
   "metadata": {},
   "outputs": [],
   "source": [
    "# Feature Normalization\n",
    "x_train = x_train.astype('float32')\n",
    "x_test = x_test.astype('float32')\n",
    "x_train /= 255\n",
    "x_test /= 255"
   ]
  },
  {
   "cell_type": "code",
   "execution_count": 23,
   "metadata": {},
   "outputs": [
    {
     "name": "stderr",
     "output_type": "stream",
     "text": [
      "W1224 19:59:54.113759 15020 deprecation.py:323] From C:\\Users\\Ahmed.Abuelkhir\\AppData\\Roaming\\Python\\Python37\\site-packages\\tensorflow\\python\\ops\\math_grad.py:1250: add_dispatch_support.<locals>.wrapper (from tensorflow.python.ops.array_ops) is deprecated and will be removed in a future version.\n",
      "Instructions for updating:\n",
      "Use tf.where in 2.0, which has the same broadcast rule as np.where\n"
     ]
    },
    {
     "name": "stdout",
     "output_type": "stream",
     "text": [
      "Epoch 1/100\n",
      "50000/50000 [==============================] - 227s 5ms/step - loss: 1.8466 - acc: 0.3213\n",
      "Epoch 2/100\n",
      "50000/50000 [==============================] - 210s 4ms/step - loss: 1.5049 - acc: 0.4541\n",
      "Epoch 3/100\n",
      "50000/50000 [==============================] - 221s 4ms/step - loss: 1.3629 - acc: 0.5134 3s - lo\n",
      "Epoch 4/100\n",
      "50000/50000 [==============================] - 452s 9ms/step - loss: 1.2634 - acc: 0.5498\n",
      "Epoch 5/100\n",
      "50000/50000 [==============================] - 369s 7ms/step - loss: 1.1904 - acc: 0.5788\n",
      "Epoch 6/100\n",
      "50000/50000 [==============================] - 357s 7ms/step - loss: 1.1278 - acc: 0.6013\n",
      "Epoch 7/100\n",
      "50000/50000 [==============================] - 340s 7ms/step - loss: 1.0769 - acc: 0.6212\n",
      "Epoch 8/100\n",
      "50000/50000 [==============================] - 379s 8ms/step - loss: 1.0306 - acc: 0.6378\n",
      "Epoch 9/100\n",
      "50000/50000 [==============================] - 377s 8ms/step - loss: 0.9902 - acc: 0.6505\n",
      "Epoch 10/100\n",
      "50000/50000 [==============================] - 360s 7ms/step - loss: 0.9576 - acc: 0.6640\n",
      "Epoch 11/100\n",
      "50000/50000 [==============================] - 334s 7ms/step - loss: 0.9255 - acc: 0.6771\n",
      "Epoch 12/100\n",
      "50000/50000 [==============================] - 325s 6ms/step - loss: 0.9004 - acc: 0.6847\n",
      "Epoch 13/100\n",
      "50000/50000 [==============================] - 316s 6ms/step - loss: 0.8731 - acc: 0.6941\n",
      "Epoch 14/100\n",
      "50000/50000 [==============================] - 315s 6ms/step - loss: 0.8535 - acc: 0.7039\n",
      "Epoch 15/100\n",
      "50000/50000 [==============================] - 316s 6ms/step - loss: 0.8302 - acc: 0.7118\n",
      "Epoch 16/100\n",
      "50000/50000 [==============================] - 316s 6ms/step - loss: 0.8110 - acc: 0.7183\n",
      "Epoch 17/100\n",
      "50000/50000 [==============================] - 321s 6ms/step - loss: 0.7977 - acc: 0.7247\n",
      "Epoch 18/100\n",
      "50000/50000 [==============================] - 327s 7ms/step - loss: 0.7854 - acc: 0.7277\n",
      "Epoch 19/100\n",
      "50000/50000 [==============================] - 261s 5ms/step - loss: 0.7755 - acc: 0.7342\n",
      "Epoch 20/100\n",
      "50000/50000 [==============================] - 211s 4ms/step - loss: 0.7589 - acc: 0.7385\n",
      "Epoch 21/100\n",
      "50000/50000 [==============================] - 207s 4ms/step - loss: 0.7500 - acc: 0.7393\n",
      "Epoch 22/100\n",
      "50000/50000 [==============================] - 204s 4ms/step - loss: 0.7424 - acc: 0.7448\n",
      "Epoch 23/100\n",
      "50000/50000 [==============================] - 205s 4ms/step - loss: 0.7342 - acc: 0.7492\n",
      "Epoch 24/100\n",
      "50000/50000 [==============================] - 204s 4ms/step - loss: 0.7318 - acc: 0.7485\n",
      "Epoch 25/100\n",
      "50000/50000 [==============================] - 205s 4ms/step - loss: 0.7187 - acc: 0.7529\n",
      "Epoch 26/100\n",
      "50000/50000 [==============================] - 205s 4ms/step - loss: 0.7152 - acc: 0.7571\n",
      "Epoch 27/100\n",
      "50000/50000 [==============================] - 205s 4ms/step - loss: 0.7083 - acc: 0.7585\n",
      "Epoch 28/100\n",
      "50000/50000 [==============================] - 204s 4ms/step - loss: 0.7043 - acc: 0.7597\n",
      "Epoch 29/100\n",
      "50000/50000 [==============================] - 204s 4ms/step - loss: 0.7038 - acc: 0.7596\n",
      "Epoch 30/100\n",
      "50000/50000 [==============================] - 205s 4ms/step - loss: 0.6963 - acc: 0.7654\n",
      "Epoch 31/100\n",
      "50000/50000 [==============================] - 204s 4ms/step - loss: 0.6924 - acc: 0.7625\n",
      "Epoch 32/100\n",
      "50000/50000 [==============================] - 205s 4ms/step - loss: 0.6843 - acc: 0.7679\n",
      "Epoch 33/100\n",
      "50000/50000 [==============================] - 204s 4ms/step - loss: 0.6777 - acc: 0.7713\n",
      "Epoch 34/100\n",
      "50000/50000 [==============================] - 205s 4ms/step - loss: 0.6744 - acc: 0.7713\n",
      "Epoch 35/100\n",
      "50000/50000 [==============================] - 205s 4ms/step - loss: 0.6749 - acc: 0.7724\n",
      "Epoch 36/100\n",
      "50000/50000 [==============================] - 205s 4ms/step - loss: 0.6685 - acc: 0.7734\n",
      "Epoch 37/100\n",
      "50000/50000 [==============================] - 205s 4ms/step - loss: 0.6701 - acc: 0.7738\n",
      "Epoch 38/100\n",
      "50000/50000 [==============================] - 205s 4ms/step - loss: 0.6592 - acc: 0.7767\n",
      "Epoch 39/100\n",
      "50000/50000 [==============================] - 204s 4ms/step - loss: 0.6634 - acc: 0.7758\n",
      "Epoch 40/100\n",
      "50000/50000 [==============================] - 205s 4ms/step - loss: 0.6588 - acc: 0.7789\n",
      "Epoch 41/100\n",
      "50000/50000 [==============================] - 204s 4ms/step - loss: 0.6554 - acc: 0.7782\n",
      "Epoch 42/100\n",
      "50000/50000 [==============================] - 205s 4ms/step - loss: 0.6475 - acc: 0.7823\n",
      "Epoch 43/100\n",
      "50000/50000 [==============================] - 205s 4ms/step - loss: 0.6531 - acc: 0.7816\n",
      "Epoch 44/100\n",
      "50000/50000 [==============================] - 204s 4ms/step - loss: 0.6504 - acc: 0.7821\n",
      "Epoch 45/100\n",
      "50000/50000 [==============================] - 204s 4ms/step - loss: 0.6466 - acc: 0.7860\n",
      "Epoch 46/100\n",
      "50000/50000 [==============================] - 205s 4ms/step - loss: 0.6400 - acc: 0.7870\n",
      "Epoch 47/100\n",
      "50000/50000 [==============================] - 205s 4ms/step - loss: 0.6421 - acc: 0.7854\n",
      "Epoch 48/100\n",
      "50000/50000 [==============================] - 204s 4ms/step - loss: 0.6421 - acc: 0.7854\n",
      "Epoch 49/100\n",
      "50000/50000 [==============================] - 204s 4ms/step - loss: 0.6349 - acc: 0.7858\n",
      "Epoch 50/100\n",
      "50000/50000 [==============================] - 204s 4ms/step - loss: 0.6360 - acc: 0.7894\n",
      "Epoch 51/100\n",
      "50000/50000 [==============================] - 204s 4ms/step - loss: 0.6329 - acc: 0.7853\n",
      "Epoch 52/100\n",
      "50000/50000 [==============================] - 204s 4ms/step - loss: 0.6342 - acc: 0.7871\n",
      "Epoch 53/100\n",
      "50000/50000 [==============================] - 206s 4ms/step - loss: 0.6217 - acc: 0.7929\n",
      "Epoch 54/100\n",
      "50000/50000 [==============================] - 204s 4ms/step - loss: 0.6308 - acc: 0.7890\n",
      "Epoch 55/100\n",
      "50000/50000 [==============================] - 204s 4ms/step - loss: 0.6248 - acc: 0.7912\n",
      "Epoch 56/100\n",
      "50000/50000 [==============================] - 204s 4ms/step - loss: 0.6226 - acc: 0.7929\n",
      "Epoch 57/100\n",
      "50000/50000 [==============================] - 204s 4ms/step - loss: 0.6269 - acc: 0.7887\n",
      "Epoch 58/100\n",
      "50000/50000 [==============================] - 204s 4ms/step - loss: 0.6200 - acc: 0.7926\n",
      "Epoch 59/100\n",
      "50000/50000 [==============================] - 204s 4ms/step - loss: 0.6193 - acc: 0.7907\n",
      "Epoch 60/100\n",
      "50000/50000 [==============================] - 204s 4ms/step - loss: 0.6193 - acc: 0.7916\n",
      "Epoch 61/100\n",
      "50000/50000 [==============================] - 204s 4ms/step - loss: 0.6255 - acc: 0.7918\n",
      "Epoch 62/100\n",
      "50000/50000 [==============================] - 204s 4ms/step - loss: 0.6206 - acc: 0.7939\n",
      "Epoch 63/100\n",
      "50000/50000 [==============================] - 204s 4ms/step - loss: 0.6178 - acc: 0.7953\n",
      "Epoch 64/100\n",
      "50000/50000 [==============================] - 204s 4ms/step - loss: 0.6203 - acc: 0.7951\n",
      "Epoch 65/100\n",
      "50000/50000 [==============================] - 204s 4ms/step - loss: 0.6142 - acc: 0.7982\n",
      "Epoch 66/100\n",
      "50000/50000 [==============================] - 204s 4ms/step - loss: 0.6137 - acc: 0.7978\n",
      "Epoch 67/100\n",
      "50000/50000 [==============================] - 204s 4ms/step - loss: 0.6144 - acc: 0.7931\n",
      "Epoch 68/100\n",
      "50000/50000 [==============================] - 204s 4ms/step - loss: 0.6156 - acc: 0.7957\n",
      "Epoch 69/100\n",
      "50000/50000 [==============================] - 204s 4ms/step - loss: 0.6151 - acc: 0.7958\n",
      "Epoch 70/100\n",
      "50000/50000 [==============================] - 205s 4ms/step - loss: 0.6089 - acc: 0.7953\n",
      "Epoch 71/100\n",
      "50000/50000 [==============================] - 206s 4ms/step - loss: 0.6102 - acc: 0.7982\n",
      "Epoch 72/100\n",
      "50000/50000 [==============================] - 204s 4ms/step - loss: 0.6107 - acc: 0.7966\n",
      "Epoch 73/100\n",
      "50000/50000 [==============================] - 204s 4ms/step - loss: 0.6091 - acc: 0.8003\n",
      "Epoch 74/100\n",
      "50000/50000 [==============================] - 204s 4ms/step - loss: 0.6133 - acc: 0.7961\n",
      "Epoch 75/100\n",
      "50000/50000 [==============================] - 203s 4ms/step - loss: 0.6051 - acc: 0.7992\n",
      "Epoch 76/100\n",
      "50000/50000 [==============================] - 204s 4ms/step - loss: 0.6103 - acc: 0.7965\n",
      "Epoch 77/100\n",
      "50000/50000 [==============================] - 204s 4ms/step - loss: 0.6086 - acc: 0.7973\n",
      "Epoch 78/100\n",
      "50000/50000 [==============================] - 204s 4ms/step - loss: 0.6047 - acc: 0.7972\n",
      "Epoch 79/100\n",
      "50000/50000 [==============================] - 205s 4ms/step - loss: 0.6038 - acc: 0.7982\n",
      "Epoch 80/100\n",
      "50000/50000 [==============================] - 204s 4ms/step - loss: 0.6013 - acc: 0.7986\n",
      "Epoch 81/100\n",
      "50000/50000 [==============================] - 205s 4ms/step - loss: 0.5985 - acc: 0.8021\n",
      "Epoch 82/100\n",
      "50000/50000 [==============================] - 204s 4ms/step - loss: 0.5994 - acc: 0.8016\n",
      "Epoch 83/100\n",
      "50000/50000 [==============================] - 205s 4ms/step - loss: 0.6081 - acc: 0.7972\n",
      "Epoch 84/100\n",
      "50000/50000 [==============================] - 204s 4ms/step - loss: 0.6020 - acc: 0.8010\n",
      "Epoch 85/100\n",
      "50000/50000 [==============================] - 204s 4ms/step - loss: 0.6093 - acc: 0.7979\n",
      "Epoch 86/100\n",
      "50000/50000 [==============================] - 204s 4ms/step - loss: 0.6061 - acc: 0.7983\n",
      "Epoch 87/100\n",
      "50000/50000 [==============================] - 204s 4ms/step - loss: 0.6123 - acc: 0.7968\n",
      "Epoch 88/100\n",
      "50000/50000 [==============================] - 206s 4ms/step - loss: 0.6015 - acc: 0.8015\n",
      "Epoch 89/100\n",
      "50000/50000 [==============================] - 204s 4ms/step - loss: 0.6055 - acc: 0.8007\n",
      "Epoch 90/100\n",
      "50000/50000 [==============================] - 204s 4ms/step - loss: 0.6070 - acc: 0.7992\n",
      "Epoch 91/100\n",
      "50000/50000 [==============================] - 205s 4ms/step - loss: 0.6062 - acc: 0.7985\n",
      "Epoch 92/100\n",
      "50000/50000 [==============================] - 204s 4ms/step - loss: 0.6006 - acc: 0.7998\n",
      "Epoch 93/100\n",
      "50000/50000 [==============================] - 204s 4ms/step - loss: 0.6051 - acc: 0.7985\n",
      "Epoch 94/100\n",
      "50000/50000 [==============================] - 204s 4ms/step - loss: 0.6020 - acc: 0.8010\n",
      "Epoch 95/100\n",
      "50000/50000 [==============================] - 204s 4ms/step - loss: 0.5995 - acc: 0.8013\n",
      "Epoch 96/100\n",
      "50000/50000 [==============================] - 204s 4ms/step - loss: 0.6020 - acc: 0.8015\n",
      "Epoch 97/100\n",
      "50000/50000 [==============================] - 204s 4ms/step - loss: 0.6032 - acc: 0.8007\n",
      "Epoch 98/100\n",
      "50000/50000 [==============================] - 204s 4ms/step - loss: 0.6082 - acc: 0.7984\n",
      "Epoch 99/100\n",
      "50000/50000 [==============================] - 204s 4ms/step - loss: 0.6040 - acc: 0.7998\n",
      "Epoch 100/100\n",
      "50000/50000 [==============================] - 204s 4ms/step - loss: 0.6000 - acc: 0.7993\n"
     ]
    },
    {
     "data": {
      "text/plain": [
       "<keras.callbacks.History at 0x1dc89480ba8>"
      ]
     },
     "execution_count": 23,
     "metadata": {},
     "output_type": "execute_result"
    }
   ],
   "source": [
    "model.fit(x_train, y_train,\n",
    "          batch_size=batch_size,\n",
    "          epochs=epochs)"
   ]
  },
  {
   "cell_type": "code",
   "execution_count": 24,
   "metadata": {},
   "outputs": [
    {
     "name": "stdout",
     "output_type": "stream",
     "text": [
      "Saved trained model at D:\\Cifar10 - CNN\\saved_models\\keras_cifar10_trained_model.h5 \n",
      "10000/10000 [==============================] - 9s 906us/step\n",
      "Test loss: 0.6560985964298248\n",
      "Test accuracy: 0.7895\n"
     ]
    }
   ],
   "source": [
    "# Save model and weights\n",
    "if not os.path.isdir(save_dir):\n",
    "    os.makedirs(save_dir)\n",
    "model_path = os.path.join(save_dir, model_name)\n",
    "model.save(model_path)\n",
    "print('Saved trained model at %s ' % model_path)\n",
    "\n",
    "# Score trained model.\n",
    "scores = model.evaluate(x_test, y_test, verbose=1)\n",
    "print('Test loss:', scores[0])\n",
    "print('Test accuracy:', scores[1])"
   ]
  },
  {
   "cell_type": "code",
   "execution_count": 47,
   "metadata": {},
   "outputs": [],
   "source": [
    "# Define a function for viewing the image\n",
    "def view_image(subset, i):\n",
    "    \"\"\"\n",
    "    subset : x data for train or test [x_train | x_test ]\n",
    "    i : index of image\n",
    "    \"\"\"\n",
    "    import matplotlib.pyplot as plt\n",
    "    plt.rcParams[\"figure.figsize\"] = (2,2)\n",
    "    from PIL import Image\n",
    "    return plt.imshow(Image.fromarray(subset[i]), interpolation='nearest')"
   ]
  },
  {
   "cell_type": "code",
   "execution_count": 26,
   "metadata": {},
   "outputs": [],
   "source": [
    "# Load the saved model \n",
    "from keras.models import load_model\n",
    "saved_model = load_model('saved_models/keras_cifar10_trained_model.h5')"
   ]
  },
  {
   "cell_type": "code",
   "execution_count": 31,
   "metadata": {},
   "outputs": [],
   "source": [
    "# Predict calsses\n",
    "y_pred = saved_model.predict_classes(x_test)"
   ]
  },
  {
   "cell_type": "code",
   "execution_count": 43,
   "metadata": {},
   "outputs": [],
   "source": [
    "# Save the result in a dataframe\n",
    "import pandas as pd \n",
    "results = pd.DataFrame({'Index': range(len(y_pred)), 'Actual': [y_test[i] for i in range(len(y_pred))], 'Predicted': [y_pred[i] for i in range(len(y_pred))]}).set_index('Index')"
   ]
  },
  {
   "cell_type": "code",
   "execution_count": 45,
   "metadata": {},
   "outputs": [
    {
     "data": {
      "text/html": [
       "<div>\n",
       "<style scoped>\n",
       "    .dataframe tbody tr th:only-of-type {\n",
       "        vertical-align: middle;\n",
       "    }\n",
       "\n",
       "    .dataframe tbody tr th {\n",
       "        vertical-align: top;\n",
       "    }\n",
       "\n",
       "    .dataframe thead th {\n",
       "        text-align: right;\n",
       "    }\n",
       "</style>\n",
       "<table border=\"1\" class=\"dataframe\">\n",
       "  <thead>\n",
       "    <tr style=\"text-align: right;\">\n",
       "      <th></th>\n",
       "      <th>Actual</th>\n",
       "      <th>Predicted</th>\n",
       "    </tr>\n",
       "    <tr>\n",
       "      <th>Index</th>\n",
       "      <th></th>\n",
       "      <th></th>\n",
       "    </tr>\n",
       "  </thead>\n",
       "  <tbody>\n",
       "    <tr>\n",
       "      <th>0</th>\n",
       "      <td>[3]</td>\n",
       "      <td>5</td>\n",
       "    </tr>\n",
       "    <tr>\n",
       "      <th>1</th>\n",
       "      <td>[8]</td>\n",
       "      <td>9</td>\n",
       "    </tr>\n",
       "    <tr>\n",
       "      <th>2</th>\n",
       "      <td>[8]</td>\n",
       "      <td>8</td>\n",
       "    </tr>\n",
       "    <tr>\n",
       "      <th>3</th>\n",
       "      <td>[0]</td>\n",
       "      <td>8</td>\n",
       "    </tr>\n",
       "    <tr>\n",
       "      <th>4</th>\n",
       "      <td>[6]</td>\n",
       "      <td>8</td>\n",
       "    </tr>\n",
       "    <tr>\n",
       "      <th>5</th>\n",
       "      <td>[6]</td>\n",
       "      <td>5</td>\n",
       "    </tr>\n",
       "    <tr>\n",
       "      <th>6</th>\n",
       "      <td>[1]</td>\n",
       "      <td>1</td>\n",
       "    </tr>\n",
       "    <tr>\n",
       "      <th>7</th>\n",
       "      <td>[6]</td>\n",
       "      <td>9</td>\n",
       "    </tr>\n",
       "    <tr>\n",
       "      <th>8</th>\n",
       "      <td>[3]</td>\n",
       "      <td>3</td>\n",
       "    </tr>\n",
       "    <tr>\n",
       "      <th>9</th>\n",
       "      <td>[1]</td>\n",
       "      <td>9</td>\n",
       "    </tr>\n",
       "  </tbody>\n",
       "</table>\n",
       "</div>"
      ],
      "text/plain": [
       "      Actual  Predicted\n",
       "Index                  \n",
       "0        [3]          5\n",
       "1        [8]          9\n",
       "2        [8]          8\n",
       "3        [0]          8\n",
       "4        [6]          8\n",
       "5        [6]          5\n",
       "6        [1]          1\n",
       "7        [6]          9\n",
       "8        [3]          3\n",
       "9        [1]          9"
      ]
     },
     "execution_count": 45,
     "metadata": {},
     "output_type": "execute_result"
    }
   ],
   "source": [
    "# View the head \n",
    "results.head(10)"
   ]
  },
  {
   "cell_type": "code",
   "execution_count": 51,
   "metadata": {},
   "outputs": [
    {
     "data": {
      "text/plain": [
       "<matplotlib.image.AxesImage at 0x22e5baaca58>"
      ]
     },
     "execution_count": 51,
     "metadata": {},
     "output_type": "execute_result"
    },
    {
     "data": {
      "image/png": "[encoded data removed]",
      "text/plain": [
       "<Figure size 144x144 with 1 Axes>"
      ]
     },
     "metadata": {
      "needs_background": "light"
     },
     "output_type": "display_data"
    }
   ],
   "source": [
    "# Explore some images\n",
    "view_image(x_test, 1)"
   ]
  },
  {
   "cell_type": "code",
   "execution_count": null,
   "metadata": {},
   "outputs": [],
   "source": []
  }
 ],
 "metadata": {
  "kernelspec": {
   "display_name": "Python 3",
   "language": "python",
   "name": "python3"
  },
  "language_info": {
   "codemirror_mode": {
    "name": "ipython",
    "version": 3
   },
   "file_extension": ".py",
   "mimetype": "text/x-python",
   "name": "python",
   "nbconvert_exporter": "python",
   "pygments_lexer": "ipython3",
   "version": "3.7.3"
  }
 },
 "nbformat": 4,
 "nbformat_minor": 2
}
